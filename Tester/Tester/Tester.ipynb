{
 "cells": [
  {
   "cell_type": "code",
   "execution_count": 161,
   "metadata": {},
   "outputs": [],
   "source": [
    "import math\n",
    "from sympy import *\n",
    "import numpy as np\n",
    "from numpy import linspace\n",
    "import matplotlib.pyplot as plt\n",
    "np.set_printoptions( linewidth=np.inf, precision=2)\n",
    "def Plot(f, interval):\n",
    "    x_vals = linspace(interval[0], interval[1], 1000)\n",
    "    lam_y = lambdify(x, f, modules = ['numpy'])\n",
    "    y_vals = lam_y(x_vals)\n",
    "    plt.plot(x_vals, y_vals, label = \"ssosdfa\")\n",
    "    #plt.show()"
   ]
  },
  {
   "cell_type": "code",
   "execution_count": 162,
   "metadata": {},
   "outputs": [],
   "source": [
    "def Gram(e, interval):\n",
    "    n = len(e)\n",
    "    a = np.zeros((n,n))\n",
    "    for i in range(n):\n",
    "        for j in range(n):\n",
    "            a[i][j] = integrate(e[i]*e[j], (x, interval)).evalf(3)\n",
    "    return a\n",
    "def Project(f, e, interval):\n",
    "    n = len(e)\n",
    "    a = np.zeros(n)\n",
    "    for i in range(n):\n",
    "        a[i] = integrate(f*e[i], (x,interval)).evalf(3)\n",
    "    return a"
   ]
  },
  {
   "cell_type": "code",
   "execution_count": 163,
   "metadata": {},
   "outputs": [],
   "source": [
    "x = symbols(\"x\")\n",
    "\n",
    "e0 = 1\n",
    "e1 = x\n",
    "e2 = x**2\n",
    "e3 = x**3\n",
    "e4 = x**4\n",
    "e = (e0,e1,e2,e3,e4)\n",
    "\n",
    "f = sin(x) + cos(x)\n",
    "interval = [-3,3]"
   ]
  },
  {
   "cell_type": "code",
   "execution_count": 164,
   "metadata": {},
   "outputs": [
    {
     "name": "stdout",
     "output_type": "stream",
     "text": [
      "A = \n",
      "[[   6.      0.     18.      0.     97.2 ]\n",
      " [   0.     18.      0.     97.2     0.  ]\n",
      " [  18.      0.     97.2     0.    624.88]\n",
      " [   0.     97.2     0.    624.88    0.  ]\n",
      " [  97.2     0.    624.88    0.   4374.  ]]\n",
      "X =       [  0.28   6.22  -9.9   23.75 -72.12]\n",
      "result =  [ 0.98  0.88 -0.46 -0.1   0.03]\n"
     ]
    }
   ],
   "source": [
    "A = Gram(e, interval)\n",
    "X = Project(f, e, interval)\n",
    "result = np.linalg.solve(A,X)\n",
    "print(\"A = \")\n",
    "print(A)\n",
    "print(\"X =      \", X)\n",
    "print(\"result = \", result)"
   ]
  },
  {
   "cell_type": "code",
   "execution_count": 165,
   "metadata": {},
   "outputs": [
    {
     "data": {
      "image/png": "[encoded data removed]",
      "text/plain": [
       "<Figure size 432x288 with 1 Axes>"
      ]
     },
     "metadata": {
      "needs_background": "light"
     },
     "output_type": "display_data"
    }
   ],
   "source": [
    "estimator = 0; xn = 1\n",
    "for i in range(len(result)):\n",
    "    estimator += result[i] * xn\n",
    "    xn *= x\n",
    "\n",
    "estimator\n",
    "\n",
    "Plot(estimator, interval)\n",
    "Plot(f, interval)"
   ]
  },
  {
   "cell_type": "code",
   "execution_count": null,
   "metadata": {},
   "outputs": [],
   "source": []
  }
 ],
 "metadata": {
  "kernelspec": {
   "display_name": "Python 3",
   "language": "python",
   "name": "python3"
  },
  "language_info": {
   "codemirror_mode": {
    "name": "ipython",
    "version": 3
   },
   "file_extension": ".py",
   "mimetype": "text/x-python",
   "name": "python",
   "nbconvert_exporter": "python",
   "pygments_lexer": "ipython3",
   "version": "3.8.5"
  }
 },
 "nbformat": 4,
 "nbformat_minor": 4
}
