{
 "cells": [
  {
   "cell_type": "code",
   "execution_count": 3,
   "metadata": {},
   "outputs": [],
   "source": [
    "from danilevsky import Danilevski\n",
    "import numpy as np"
   ]
  },
  {
   "cell_type": "markdown",
   "metadata": {},
   "source": [
    "## Example"
   ]
  },
  {
   "cell_type": "code",
   "execution_count": 4,
   "metadata": {},
   "outputs": [
    {
     "output_type": "stream",
     "name": "stdout",
     "text": [
      "Vector rieng cua:  7.0\n[[0.]\n [0.]\n [0.]\n [0.]\n [1.]]\nVector rieng cua:  2.0\n[[ 0.]\n [ 0.]\n [-1.]\n [ 1.]\n [ 0.]]\nVector rieng cua:  7.0\n[[0.        ]\n [0.        ]\n [0.66666667]\n [1.        ]\n [0.        ]]\nVector rieng cua:  3.0\n[[1.]\n [0.]\n [0.]\n [0.]\n [0.]]\nVector rieng cua:  3.0\n[[1.]\n [0.]\n [0.]\n [0.]\n [0.]]\n"
     ]
    }
   ],
   "source": [
    "A = np.array([[3, 2, 0, 0, 0], [0, 3, 0, 0, 0], [0, 0, 4, 2, 0], [0, 0, 3, 5, 0], [0, 0, 0, 0, 7]])\n",
    "eigen_values, eigen_vectors = Danilevski(A)"
   ]
  },
  {
   "cell_type": "code",
   "execution_count": 3,
   "metadata": {},
   "outputs": [
    {
     "name": "stdout",
     "output_type": "stream",
     "text": [
      "Vector rieng cua:  -3.414213562630226\n",
      "[[-1.        ]\n",
      " [-0.41421356]\n",
      " [ 0.41421356]\n",
      " [ 1.        ]]\n",
      "Vector rieng cua:  -1.099019513277647\n",
      "[[ 1.       ]\n",
      " [-1.2198039]\n",
      " [-1.2198039]\n",
      " [ 1.       ]]\n",
      "Vector rieng cua:  -0.5857864376269043\n",
      "[[-1.        ]\n",
      " [ 2.41421356]\n",
      " [-2.41421356]\n",
      " [ 1.        ]]\n",
      "Vector rieng cua:  9.099019513534778\n",
      "[[1.       ]\n",
      " [0.8198039]\n",
      " [0.8198039]\n",
      " [1.       ]]\n"
     ]
    }
   ],
   "source": [
    "A = np.array([[1, 2, 3, 4], [2, 1, 2, 3], [3, 2, 1, 2], [4, 3, 2, 1]])\n",
    "eigenvalues, eigenvectors = Danilevski(A)"
   ]
  },
  {
   "cell_type": "code",
   "execution_count": null,
   "metadata": {},
   "outputs": [],
   "source": []
  }
 ],
 "metadata": {
  "kernelspec": {
   "name": "python3",
   "display_name": "Python 3.8.1 32-bit",
   "metadata": {
    "interpreter": {
     "hash": "28936606d588e1792d9af31721292590705332f10ade0d758428c3ec718991f4"
    }
   }
  },
  "language_info": {
   "codemirror_mode": {
    "name": "ipython",
    "version": 3
   },
   "file_extension": ".py",
   "mimetype": "text/x-python",
   "name": "python",
   "nbconvert_exporter": "python",
   "pygments_lexer": "ipython3",
   "version": "3.8.1-final"
  }
 },
 "nbformat": 4,
 "nbformat_minor": 2
}