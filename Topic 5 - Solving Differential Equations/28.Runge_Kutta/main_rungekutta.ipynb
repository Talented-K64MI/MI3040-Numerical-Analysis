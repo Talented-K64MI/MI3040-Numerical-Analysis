{
 "metadata": {
  "language_info": {
   "codemirror_mode": {
    "name": "ipython",
    "version": 3
   },
   "file_extension": ".py",
   "mimetype": "text/x-python",
   "name": "python",
   "nbconvert_exporter": "python",
   "pygments_lexer": "ipython3",
   "version": "3.8.1-final"
  },
  "orig_nbformat": 2,
  "kernelspec": {
   "name": "python3",
   "display_name": "Python 3.8.1 32-bit",
   "metadata": {
    "interpreter": {
     "hash": "28936606d588e1792d9af31721292590705332f10ade0d758428c3ec718991f4"
    }
   }
  }
 },
 "nbformat": 4,
 "nbformat_minor": 2,
 "cells": [
  {
   "cell_type": "code",
   "execution_count": 38,
   "metadata": {},
   "outputs": [],
   "source": [
    "from sympy import *\n",
    "from math import *\n",
    "import sys\n",
    "\n",
    "\n",
    "from lib_rungekutta import *"
   ]
  },
  {
   "source": [
    "# Phương pháp Runge - Kutta hiện giải bài toán Cauchy cho phương trình vi phân thường\n",
    "\n",
    "## 1. Nhập dữ liệu\n",
    "\n",
    "Nhập biểu thức $ y' = f(x, y)$. Lưu ý PT phải đặt trong dấu nháy kép"
   ],
   "cell_type": "markdown",
   "metadata": {}
  },
  {
   "cell_type": "code",
   "execution_count": 39,
   "metadata": {},
   "outputs": [],
   "source": [
    "expr = \"\""
   ]
  },
  {
   "source": [
    "Nhập giá trị ban đầu $x_{0}$ và $y(x_{0})$"
   ],
   "cell_type": "markdown",
   "metadata": {}
  },
  {
   "cell_type": "code",
   "execution_count": 40,
   "metadata": {},
   "outputs": [],
   "source": [
    "x_0 = 0\n",
    "y_0 = 1"
   ]
  },
  {
   "source": [
    "Nhập khoảng cách giữa 2 điểm liên tiếp $h$"
   ],
   "cell_type": "markdown",
   "metadata": {}
  },
  {
   "cell_type": "code",
   "execution_count": 41,
   "metadata": {},
   "outputs": [],
   "source": [
    "h = 0.1"
   ]
  },
  {
   "source": [
    "Nhập số mốc của lưới điểm $n$ "
   ],
   "cell_type": "markdown",
   "metadata": {}
  },
  {
   "cell_type": "code",
   "execution_count": 42,
   "metadata": {},
   "outputs": [],
   "source": [
    "n = 15"
   ]
  },
  {
   "source": [
    "Nhập số nấc của Runge-Kutta. Các giá trị bao gồm 1, 2, 3, 4 hoặc kiểu hệ số của Heun"
   ],
   "cell_type": "markdown",
   "metadata": {}
  },
  {
   "cell_type": "code",
   "execution_count": 43,
   "metadata": {},
   "outputs": [],
   "source": [
    "s = 4"
   ]
  },
  {
   "source": [
    "## 2. Giải PTVP và in ra kết quả\n",
    "Cấp chính xác:"
   ],
   "cell_type": "markdown",
   "metadata": {}
  },
  {
   "source": [
    "precision_x   = 3;\n",
    "precision_y   = 7;\n",
    "precision_eps = 12;"
   ],
   "cell_type": "code",
   "metadata": {},
   "execution_count": 44,
   "outputs": []
  },
  {
   "source": [
    "Giải và in kết quả:\n"
   ],
   "cell_type": "markdown",
   "metadata": {}
  },
  {
   "cell_type": "code",
   "execution_count": 45,
   "metadata": {},
   "outputs": [],
   "source": [
    "s  = s if(s == \"heun\" or s == \"Heun\") else int(s); \n",
    "uu = rungekutta_oop(expr, x_0, y_0, h, n, s);\n",
    "g  = (uu.Solve());"
   ]
  },
  {
   "cell_type": "code",
   "execution_count": 49,
   "metadata": {},
   "outputs": [
    {
     "output_type": "stream",
     "name": "stdout",
     "text": [
      "Phương pháp Runge-Kutta 4 nấc với hoàn tất với lưới điểm sau, sai số toàn cục $O(h^4)$ = 0.0001:\n0 1\n0.1 1.0003333\n0.2 1.0026667\n0.3 1.009\n0.4 1.0213333\n0.5 1.0416667\n0.6 1.072\n0.7 1.1143333\n0.8 1.1706667\n0.9 1.243\n1.0 1.3333333\n1.1 1.4436667\n1.2 1.576\n1.3 1.7323333\n1.4 1.9146667\n1.5 2.125\n"
     ]
    }
   ],
   "source": [
    "if(s == \"heun\" or s == \"Heun\"):\n",
    "#{\n",
    "    print(f\"Phương pháp Runge-Kutta 3 nấc với cấu hình hệ số kiểu Heun hoàn tất với lưới điểm sau, sai số toàn cục O(h^3) = {round(h**3, precision_eps)}:\");\n",
    "#}\n",
    "else:\n",
    "#{\n",
    "    print(f\"Phương pháp Runge-Kutta {s} nấc với hoàn tất với lưới điểm sau, sai số toàn cục O(h^{s}) = {round(h**s, precision_eps)}:\");\n",
    "#}\n",
    "for x in g: print(round(x[0], precision_x), round(x[1], precision_y));"
   ]
  },
  {
   "source": [
    "## 3. Nghiệm kiểm chứng\n",
    "Nhập PT nghiệm kiểm chứng hoặc \"NONE\" nếu không có"
   ],
   "cell_type": "markdown",
   "metadata": {}
  },
  {
   "cell_type": "code",
   "execution_count": 47,
   "metadata": {},
   "outputs": [],
   "source": [
    "sol_expr = \"NONE\""
   ]
  },
  {
   "cell_type": "code",
   "execution_count": 48,
   "metadata": {},
   "outputs": [],
   "source": [
    "if(sol_expr != \"NONE\"):\n",
    "#{\n",
    "    sol = lambdify(symbols(\"x\"), sympify(sol_expr), \"math\");\n",
    "    print(\"So sánh với giá trị đúng của nghiệm:\");\n",
    "    for x in g: print(f\"y*({round(x[0], precision_x)}) = {round(x[1], precision_y)}, so sánh với giá trị chuẩn y({round(x[0], precision_x)}) = {round(sol(x[0]), precision_y)}, sai số {round(abs(sol(x[0]) - x[1]), precision_eps)}\");\n",
    "#}"
   ]
  }
 ]
}