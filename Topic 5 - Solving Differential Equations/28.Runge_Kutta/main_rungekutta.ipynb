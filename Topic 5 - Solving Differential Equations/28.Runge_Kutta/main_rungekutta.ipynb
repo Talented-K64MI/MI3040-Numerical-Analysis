{
 "metadata": {
  "language_info": {
   "codemirror_mode": {
    "name": "ipython",
    "version": 3
   },
   "file_extension": ".py",
   "mimetype": "text/x-python",
   "name": "python",
   "nbconvert_exporter": "python",
   "pygments_lexer": "ipython3",
   "version": "3.8.1-final"
  },
  "orig_nbformat": 2,
  "kernelspec": {
   "name": "python3",
   "display_name": "Python 3.8.1 32-bit",
   "metadata": {
    "interpreter": {
     "hash": "28936606d588e1792d9af31721292590705332f10ade0d758428c3ec718991f4"
    }
   }
  }
 },
 "nbformat": 4,
 "nbformat_minor": 2,
 "cells": [
  {
   "cell_type": "code",
   "execution_count": null,
   "metadata": {},
   "outputs": [],
   "source": [
    "from sympy import *\n",
    "from math import *\n",
    "import sys\n",
    "\n",
    "\n",
    "from lib_rungekutta import *"
   ]
  },
  {
   "source": [
    "# Phương pháp Runge - Kutta hiện giải bài toán Cauchy cho phương trình vi phân thường\n",
    "\n",
    "Nhập biểu thức $ y' = f(x, y)$"
   ],
   "cell_type": "markdown",
   "metadata": {}
  },
  {
   "cell_type": "code",
   "execution_count": null,
   "metadata": {},
   "outputs": [],
   "source": [
    "expr = "
   ]
  },
  {
   "source": [
    "Nhập giá trị ban đầu $x_{0}$ và $y(x_{0})$"
   ],
   "cell_type": "markdown",
   "metadata": {}
  },
  {
   "cell_type": "code",
   "execution_count": null,
   "metadata": {},
   "outputs": [],
   "source": [
    "x_0 = \n",
    "y_0 = "
   ]
  },
  {
   "source": [
    "Nhập khoảng cách giữa 2 điểm liên tiếp $h$"
   ],
   "cell_type": "markdown",
   "metadata": {}
  },
  {
   "cell_type": "code",
   "execution_count": null,
   "metadata": {},
   "outputs": [],
   "source": [
    "h = "
   ]
  },
  {
   "source": [
    "Nhập số mốc của lưới điểm $n$ "
   ],
   "cell_type": "markdown",
   "metadata": {}
  }
 ]
}