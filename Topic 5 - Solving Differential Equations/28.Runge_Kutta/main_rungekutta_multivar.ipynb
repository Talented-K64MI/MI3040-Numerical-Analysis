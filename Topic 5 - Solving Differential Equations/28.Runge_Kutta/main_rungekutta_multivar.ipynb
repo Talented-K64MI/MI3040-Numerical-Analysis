{
 "metadata": {
  "language_info": {
   "codemirror_mode": {
    "name": "ipython",
    "version": 3
   },
   "file_extension": ".py",
   "mimetype": "text/x-python",
   "name": "python",
   "nbconvert_exporter": "python",
   "pygments_lexer": "ipython3",
   "version": "3.8.1-final"
  },
  "orig_nbformat": 2,
  "kernelspec": {
   "name": "python3",
   "display_name": "Python 3.8.1 32-bit",
   "metadata": {
    "interpreter": {
     "hash": "28936606d588e1792d9af31721292590705332f10ade0d758428c3ec718991f4"
    }
   }
  }
 },
 "nbformat": 4,
 "nbformat_minor": 2,
 "cells": [
  {
   "cell_type": "code",
   "execution_count": 3,
   "metadata": {},
   "outputs": [],
   "source": [
    "from sympy import *\n",
    "from math import *\n",
    "import sys\n",
    "\n",
    "\n",
    "from lib_rungekutta import *"
   ]
  },
  {
   "source": [
    "# Phương pháp Runge - Kutta hiện giải bài toán Cauchy cho hệ phương trình vi phân\n",
    "\n",
    "## 0. Bài toán\n",
    "\n",
    "Giải hệ phương trình vi phân sau:\n",
    "\n",
    "$$\\begin{cases} \\frac{dy_{1}}{dx} = f_{1}(x, y_{1}, y_{2}, ...., y_{r})\\\\\\frac{dy_{2}}{dx} = f_{2}(x, y_{1}, y_{2}, ...., y_{r})\\\\.... \\\\\\frac{dy_{r}}{dx} = f_{r}(x, y_{1}, y_{2}, ...., y_{r})\\end{cases}$$\n",
    "\n",
    "Ta có thể xây dựng lại như sau:\n",
    "\n",
    "$$\\frac{dY}{dx} = F(x, Y)$$\n",
    "\n",
    "## 1. Nhập dữ liệu\n",
    "\n",
    "Nhập hệ phương trình $\\frac{dY}{dx} = F(x, Y)$, với $x$ thuộc giá trị thực, $Y$ là vector các nghiệm ${y_{i}}$"
   ],
   "cell_type": "markdown",
   "metadata": {}
  },
  {
   "cell_type": "code",
   "execution_count": 5,
   "metadata": {},
   "outputs": [],
   "source": [
    "def expr(x, y):\n",
    "#{\n",
    "    dy = np.zeros((len(y)))\n",
    "\n",
    "    n = y[0]\n",
    "    p = y[1]\n",
    "    K = 100\n",
    "    r = 0.6\n",
    "    a = 0.04\n",
    "    muy = 1.2\n",
    "\n",
    "    dy[0] = r * n * (1 - n / K) - a * n * p\n",
    "    dy[1] = -muy * p + a * n * p\n",
    "    return dy\n",
    "#}"
   ]
  },
  {
   "source": [
    "Nhập giá trị ban đầu $x_{0}$ và $Y(x_{0})$"
   ],
   "cell_type": "markdown",
   "metadata": {}
  },
  {
   "cell_type": "code",
   "execution_count": 7,
   "metadata": {},
   "outputs": [],
   "source": [
    "x_0 = 0\n",
    "y_0 = [70, 20]"
   ]
  },
  {
   "source": [
    "Nhập khoảng cách giữa 2 điểm liên tiếp $h = x_{i} - x_{i-1}$"
   ],
   "cell_type": "markdown",
   "metadata": {}
  },
  {
   "cell_type": "code",
   "execution_count": 9,
   "metadata": {},
   "outputs": [],
   "source": [
    "h = 0.1"
   ]
  },
  {
   "source": [
    "Nhập số mốc của lưới điểm $n$ "
   ],
   "cell_type": "markdown",
   "metadata": {}
  },
  {
   "cell_type": "code",
   "execution_count": 11,
   "metadata": {},
   "outputs": [],
   "source": [
    "n = int(100/0.01)"
   ]
  },
  {
   "source": [
    "## 2. Giải PTVP và in ra kết quả\n",
    "Cấp chính xác:"
   ],
   "cell_type": "markdown",
   "metadata": {}
  },
  {
   "source": [
    "precision_x   = 3;\n",
    "precision_y   = 7;\n",
    "precision_eps = 12;"
   ],
   "cell_type": "code",
   "metadata": {},
   "execution_count": 13,
   "outputs": []
  },
  {
   "source": [
    "Giải và in kết quả. Kết quả trả về là dạng `list`, mỗi phần tử có cấu trúc sau:\n",
    "$$ [x_{i}, Y_{i} = [y_{1}(x_{i}), y_{2}(x_{i}), ..., y_{r}(x_{i})]] $$\n",
    "với $y_{k}(x_{i})$ là giá trị hàm số $y_{k}$ tại điểm $x_{i}$\n"
   ],
   "cell_type": "markdown",
   "metadata": {}
  },
  {
   "cell_type": "code",
   "execution_count": 16,
   "metadata": {},
   "outputs": [],
   "source": [
    "uu      = rungekutta_multivariate_oop(expr, x_0, y_0, h, n);\n",
    "ketqua  = (uu.Solve());"
   ]
  },
  {
   "cell_type": "code",
   "execution_count": 17,
   "metadata": {},
   "outputs": [
    {
     "output_type": "stream",
     "name": "stdout",
     "text": [
      "Phương pháp Runge-Kutta 4 nấc với hoàn tất với lưới điểm sau, sai số toàn cục O(h^4) = 0.0001:\n"
     ]
    },
    {
     "output_type": "error",
     "ename": "TypeError",
     "evalue": "type list doesn't define __round__ method",
     "traceback": [
      "\u001b[1;31m---------------------------------------------------------------------------\u001b[0m",
      "\u001b[1;31mTypeError\u001b[0m                                 Traceback (most recent call last)",
      "\u001b[1;32m<ipython-input-17-8ba722b7ccab>\u001b[0m in \u001b[0;36m<module>\u001b[1;34m\u001b[0m\n\u001b[0;32m      1\u001b[0m \u001b[0mprint\u001b[0m\u001b[1;33m(\u001b[0m\u001b[1;34mf\"Phương pháp Runge-Kutta {4} nấc với hoàn tất với lưới điểm sau, sai số toàn cục O(h^{4}) = {round(h**4, precision_eps)}:\"\u001b[0m\u001b[1;33m)\u001b[0m\u001b[1;33m;\u001b[0m\u001b[1;33m\u001b[0m\u001b[1;33m\u001b[0m\u001b[0m\n\u001b[0;32m      2\u001b[0m \u001b[1;31m#}\u001b[0m\u001b[1;33m\u001b[0m\u001b[1;33m\u001b[0m\u001b[1;33m\u001b[0m\u001b[0m\n\u001b[1;32m----> 3\u001b[1;33m \u001b[1;32mfor\u001b[0m \u001b[0mx\u001b[0m \u001b[1;32min\u001b[0m \u001b[0mketqua\u001b[0m\u001b[1;33m:\u001b[0m \u001b[0mprint\u001b[0m\u001b[1;33m(\u001b[0m\u001b[0mround\u001b[0m\u001b[1;33m(\u001b[0m\u001b[0mx\u001b[0m\u001b[1;33m[\u001b[0m\u001b[1;36m0\u001b[0m\u001b[1;33m]\u001b[0m\u001b[1;33m,\u001b[0m \u001b[0mprecision_x\u001b[0m\u001b[1;33m)\u001b[0m\u001b[1;33m,\u001b[0m \u001b[0mround\u001b[0m\u001b[1;33m(\u001b[0m\u001b[0mx\u001b[0m\u001b[1;33m[\u001b[0m\u001b[1;36m1\u001b[0m\u001b[1;33m]\u001b[0m\u001b[1;33m,\u001b[0m \u001b[0mprecision_y\u001b[0m\u001b[1;33m)\u001b[0m\u001b[1;33m)\u001b[0m\u001b[1;33m;\u001b[0m\u001b[1;33m\u001b[0m\u001b[1;33m\u001b[0m\u001b[0m\n\u001b[0m",
      "\u001b[1;31mTypeError\u001b[0m: type list doesn't define __round__ method"
     ]
    }
   ],
   "source": [
    "print(f\"Phương pháp Runge-Kutta {4} nấc với hoàn tất với lưới điểm sau, sai số toàn cục O(h^{4}) = {round(h**4, precision_eps)}:\");\n",
    "#}\n",
    "for x in ketqua: print(round(x[0], precision_x), x[1]);"
   ]
  },
  {
   "source": [
    "Đồ thị:"
   ],
   "cell_type": "markdown",
   "metadata": {}
  },
  {
   "cell_type": "code",
   "execution_count": null,
   "metadata": {},
   "outputs": [],
   "source": [
    "y1  = [];\n",
    "y2  = [];\n",
    "y3  = [];\n",
    "y4  = [];\n",
    "x   = [];\n",
    "\n",
    "for xx in ketqua: x.append(xx[0]);\n",
    "for xx in ketqua: y1.append(xx[1][0]), y2.append(xx[1][1]);\n",
    "\n",
    "plt.plot(y1, y2, 'r')\n",
    "plt.show()"
   ]
  }
 ]
}