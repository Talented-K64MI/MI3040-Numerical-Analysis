{
 "cells": [
  {
   "cell_type": "code",
   "execution_count": 1,
   "metadata": {},
   "outputs": [],
   "source": [
    "#source\n",
    "#region\n",
    "\n",
    "#import\n",
    "#region\n",
    "import math\n",
    "from sympy import *\n",
    "import matplotlib.pyplot as plt\n",
    "from numpy import linspace\n",
    "import numpy as np\n",
    "from sympy.codegen.cfunctions import log10\n",
    "from sympy.abc import x,t,y\n",
    "from collections import OrderedDict\n",
    "from operator import itemgetter, attrgetter\n",
    "from sympy.plotting import plot\n",
    "#endregion\n",
    "\n",
    "\n",
    "#mode\n",
    "#region\n",
    "symbolicMode = \"symbolic\"\n",
    "numericMode = \"numeric\"\n",
    "autoMode = \"auto\"\n",
    "#endregion\n",
    "\n",
    "\n",
    "#symbol declaration\n",
    "#region\n",
    "x, y, z, t = symbols('x y z t')\n",
    "k, m, n = symbols('k m n', integer=True)\n",
    "f, g, h = symbols('f g h', cls=Function)\n",
    "#endregion\n",
    "\n",
    "\n",
    "#input, output\n",
    "#region\n",
    "inputPath_1 = \"input1.txt\"\n",
    "\n",
    "outputPath_1 = \"output1.txt\"\n",
    "\n",
    "def ReadInput(file):\n",
    "    f = file.readline()\n",
    "    (lowT, upT) = map(lambda s: N(s), file.readline().split(\",\"))\n",
    "    (lowX, upX) = map(lambda s: N(s), file.readline().split(\",\"))\n",
    "    (t0, x0) = map(lambda s: N(s), file.readline().split(\",\"))\n",
    "    epsilon = N(file.readline())\n",
    "    return (f, lowT, upT, lowX, upX, t0, x0, epsilon)\n",
    "\n",
    "#geting M,L,H,T,N, ...\n",
    "#region\n",
    "def GetM(f, lowT, upT, lowX, upX):\n",
    "    #not implemented\n",
    "    return 5\n",
    "def GetL(f, lowT, upT, lowX, upX):\n",
    "    #not implemented\n",
    "    return 5\n",
    "def MaxDerivative(arr):\n",
    "    n = f.length()\n",
    "    if(n > 1):\n",
    "        L = f[1] - f[0]\n",
    "    else:\n",
    "        raise ValueError(\"array too small !\")\n",
    "    for i in range(n):\n",
    "        delta = f[i + 1] - f[i]\n",
    "        if(delta > L):\n",
    "            L = delta\n",
    "    return L\n",
    "\n",
    "def GetN(M, L, deltaT, deltaX, epsilon):\n",
    "    h = deltaT * L\n",
    "    N = 1\n",
    "    error = M * deltaT\n",
    "    while error > epsilon:\n",
    "        N+=1\n",
    "        error = error * h / N\n",
    "    return N\n",
    "\n",
    "#endregion\n",
    "\n",
    "\n",
    "#main loop (integrate)\n",
    "#region\n",
    "def NumericIntegrate(f, xn, x0, segmentLength, epsilon):\n",
    "    n = (int) (len(xn)/2)\n",
    "    segmentLength /=2\n",
    "    maxError = -1\n",
    "    loop = 0\n",
    "    while abs(maxError) > epsilon:\n",
    "        loop += 1\n",
    "        maxError = -1\n",
    "\n",
    "        integral = 0\n",
    "        for i in range(n, 0, -1):\n",
    "            integral = integral - segmentLength * (f.subs([(t, xn[i][0]), (x, xn[i][1])]) + f.subs([(t, xn[i - 1][0]), (x, xn[i - 1][1])]))\n",
    "            newValue = x0 + integral\n",
    "            error = abs(xn[i - 1][1] - newValue)\n",
    "            xn[i - 1][1] = newValue\n",
    "            if(error > maxError): maxError = error\n",
    "\n",
    "        integral = 0\n",
    "        for i in range(n, 2 * n):\n",
    "            integral = integral + segmentLength * (f.subs([(t, xn[i][0]), (x, xn[i][1])]) + f.subs([(t, xn[i + 1][0]), (x, xn[i + 1][1])]))\n",
    "            newValue = x0 + integral\n",
    "            error = abs(xn[i + 1][1] - newValue)\n",
    "            xn[i + 1][1] = x0 + integral\n",
    "            if(error > maxError): maxError = error\n",
    "\n",
    "    return xn\n",
    "\n",
    "def Trapezoid(f, firstIndex, lastIndex):\n",
    "    f = f[firstIndex:lastIndex + 1]\n",
    "    return (sum(f) - f[0] / 2 - f[f.length() - 1] / 2) / varRange\n",
    "        \n",
    "\n",
    "def SymbolicIntegrate(f, t0, x0, N):\n",
    "     xn = x0\n",
    "     for i in range(0,N):\n",
    "        xn = x0 + integrate(f.replace(x,xn), (t,t0,t))\n",
    "     return xn\n",
    "\n",
    "\n",
    "#endregion\n",
    "\n",
    "\n",
    "#plot\n",
    "#region\n",
    "def PlotPairs(pairList):\n",
    "    t,x = zip(*pairList)\n",
    "    plt.scatter(t,x)\n",
    "    plt.show()\n",
    "\n",
    "def PlotSymbol(symbolOutput):\n",
    "    func, interval = symbolOutput\n",
    "    #t = linspace(interval[0], interval[1], 1000)\n",
    "    #func = t**3/3 + t**7/67\n",
    "    plot((func, (t, interval[0], interval[1])))\n",
    "    \n",
    "def PlotBoth(symbolOutput, pairList):\n",
    "    t1, x1 = zip(*pairList)\n",
    "    plt.scatter(t1,x1)\n",
    "\n",
    "    #Why(symbolOutput)\n",
    "    func, interval = symbolOutput\n",
    "    t_vals = linspace(interval[0], interval[1], 1000)\n",
    "    lam_x = lambdify(t, func, modules=['numpy'])\n",
    "    x_vals = lam_x(t_vals)\n",
    "    plt.plot(t_vals, x_vals)\n",
    "\n",
    "def Plot(f, interval):\n",
    "    t_vals = linspace(interval[0], interval[1], 1000)\n",
    "    lam_x = lambdify(t, f, modules = ['numpy'])\n",
    "    x_vals = lam_x(t_vals)\n",
    "    plt.plot(t_vals, x_vals)\n",
    "    #plt.show()\n",
    "#endregion\n",
    "\n",
    "#Program\n",
    "#region\n",
    "def Pica1(f, lowT, upT, lowX, upX, t0, x0, M, L, epsilon, deltaT = None):\n",
    "    \n",
    "    deltaX = min(x0 - lowX, upX - x0)\n",
    "    if deltaT is None:\n",
    "        deltaT = min(deltaX / M, 1 / (2 * L), t0 - lowT, upT - t0)\n",
    "\n",
    "    N = GetN(M, L, deltaT, deltaX, epsilon)\n",
    "    xn = SymbolicIntegrate(f, t0, x0, N)\n",
    "\n",
    "    t1 = float(t0-deltaT)\n",
    "    t2 = float(t0+deltaT)\n",
    "    return (xn, (t1,t2))\n",
    "\n",
    "def Pica2(f, lowT, upT, lowX, upX, t0, x0, M, L, epsilon, deltaT = None, length = 69):\n",
    "    \n",
    "    deltaX = min(x0 - lowX, upX - x0)\n",
    "    if deltaT is None:\n",
    "        deltaT = min(deltaX / M, 1 / (2 * L), t0 - lowT, upT - t0)\n",
    "    xn = []\n",
    "    segmentLength = 2 * deltaT / length\n",
    "    n = (int)(length / 2)\n",
    "    for i in range(-n, n + 1):\n",
    "        xn.append([t0 + i * segmentLength, x0])\n",
    "\n",
    "    xn = NumericIntegrate(f, xn, x0, segmentLength, epsilon)\n",
    "\n",
    "    return xn\n",
    "\n",
    "def Pica(filename, length = None, M = None, L = None, deltaT = None):\n",
    "    try:\n",
    "        file = open(filename, \"r\")\n",
    "        (f, lowT, upT, lowX, upX, t0, x0, epsilon) = ReadInput(file)\n",
    "        f = sympify(f)\n",
    "    except:\n",
    "        raise ValueError(\"invalid Pica input\")\n",
    "    file.close()\n",
    "    \n",
    "    if M is None:\n",
    "        M = GetM(x, lowT, upT, lowX, upX)\n",
    "    else:\n",
    "        if M < 0:\n",
    "            raise ValueError(\"invalid Pica input\")\n",
    "        \n",
    "        \n",
    "    if L is None:\n",
    "        L = GetL(x, lowT, upT, lowX, upX)\n",
    "    else:\n",
    "        if L < 0:\n",
    "            raise ValueError(\"invalid Pica input\")\n",
    "    \n",
    "    if length is None:\n",
    "        return Pica1(f, lowT, upT, lowX, upX, t0, x0, M, L, epsilon, deltaT)\n",
    "    return Pica2(f, lowT, upT, lowX, upX, t0, x0, M, L, epsilon, deltaT, length)\n"
   ]
  },
  {
   "cell_type": "code",
   "execution_count": 2,
   "metadata": {},
   "outputs": [
    {
     "name": "stdout",
     "output_type": "stream",
     "text": [
      "(1.37786596119929e-6*t**18 - 1.24007936507937e-5*t**16 + 9.92063492063492e-5*t**14 - 0.000694444444444444*t**12 + 0.00416666666666667*t**10 - 0.0208333333333333*t**8 + 0.0833333333333333*t**6 - 0.25*t**4 + 0.5*t**2 + 1.0, (-0.4, 0.4))\n"
     ]
    },
    {
     "data": {
      "image/png": "[encoded data removed]",
      "text/plain": [
       "<Figure size 432x288 with 1 Axes>"
      ]
     },
     "metadata": {
      "needs_background": "light"
     },
     "output_type": "display_data"
    }
   ],
   "source": [
    "filename = \"input2.txt\"\n",
    "\n",
    "result = Pica(filename, M = 2.5, L = 1)\n",
    "result1 = Pica(filename, M = 2.5, L = 1, length = 31)\n",
    "\n",
    "print(result)\n",
    "PlotBoth(result, result1)"
   ]
  },
  {
   "cell_type": "code",
   "execution_count": 3,
   "metadata": {},
   "outputs": [
    {
     "name": "stdout",
     "output_type": "stream",
     "text": [
      "(t**12/720 + t**10/120 + t**8/24 + t**6/6 + t**4/2 + t**2, (-0.1, 0.1))\n"
     ]
    },
    {
     "data": {
      "image/png": "[encoded data removed]",
      "text/plain": [
       "<Figure size 432x288 with 1 Axes>"
      ]
     },
     "metadata": {
      "needs_background": "light"
     },
     "output_type": "display_data"
    }
   ],
   "source": [
    "filename = \"input3.txt\"\n",
    "\n",
    "result = Pica(filename)\n",
    "result1 = Pica(filename, length = 31)\n",
    "\n",
    "print(result)\n",
    "PlotBoth(result, result1)"
   ]
  },
  {
   "cell_type": "code",
   "execution_count": 4,
   "metadata": {},
   "outputs": [
    {
     "data": {
      "image/png": "[encoded data removed]",
      "text/plain": [
       "<Figure size 432x288 with 1 Axes>"
      ]
     },
     "metadata": {
      "needs_background": "light"
     },
     "output_type": "display_data"
    }
   ],
   "source": [
    "filename = \"input4.txt\"\n",
    "\n",
    "#result = Pica(filename, M = 15, L = 1.5)\n",
    "result1 = Pica(filename, length = 31, M = 15, L = 1.5)\n",
    "\n",
    "PlotPairs(result1)\n",
    "#print(result)\n",
    "#PlotBoth(result, result1)"
   ]
  },
  {
   "cell_type": "code",
   "execution_count": 6,
   "metadata": {},
   "outputs": [
    {
     "name": "stdout",
     "output_type": "stream",
     "text": [
      "(t**127/73470070892564531648651737762668646838667587109375 + 16*t**123/2026784215040199076929988222801832975206549921875 + 10553706344*t**119/4829540810131428362478795106110697038362048222576953125 + 61104138904*t**115/157456899195622494003944412172151034402956883132421875 + 650561249388838892*t**111/12964665628112748090971470147115940720535741718546508984375 + 9490819712207899544*t**107/1868480467901609556809699339309718146540082662093041640625 + 36865010961074750285127964*t**103/87420847886874420674270964006886181949542654583772966961015625 + 276709867858696153597970708*t**99/9336207055879792499193986447337359237329798062344685791953125 + 1098374990496523336216185539914*t**95/608750338795920819495064405212260385319100706039674607875953125 + 1154841614105888864160615112*t**91/11926966246191090357238098612816996031076045252313909140625 + 151840226964000744336610309276*t**87/32687751448352285001045953780621525386267754790407570765625 + 773348017207984451375671084*t**83/3837192853979341820845251409437799370425845517925671875 + 43657995047269400583898872574*t**79/5467334367265344793731536382063510705740746519991503125 + 160586194261219446828476*t**75/551336734578016092252843998718612329239083703125 + 5181074673847757177805306178*t**71/526281542973304027616020310332399835610329788171875 + 643858889596562663511718*t**67/2077218891107521713520670843522313149038696875 + 169856267323299264559669*t**63/18601960218873328777797052330050565513779375 + 2406731300995774201208*t**59/9524813220109231325036893154147754999375 + 114036381425361092*t**55/17290824519122722286370883666771875 + 1258364029411951468*t**51/7719741856012366919773667253245625 + 3309937676978398*t**47/864957070701665761319178403725 + 10365288311036*t**43/121234136560096678344851625 + 81434146858*t**39/44752357534181128957125 + 16768258*t**35/454094320154446125 + 4153657*t**31/5809960998609075 + 6052*t**27/458983094031 + 15178*t**23/66108676095 + 46*t**19/12442815 + 13*t**15/218295 + 2*t**11/2079 + t**7/63 + t**3/3, (-0.25, 0.25))\n"
     ]
    },
    {
     "data": {
      "image/png": "[encoded data removed]",
      "text/plain": [
       "<Figure size 432x288 with 1 Axes>"
      ]
     },
     "metadata": {
      "needs_background": "light"
     },
     "output_type": "display_data"
    }
   ],
   "source": [
    "filename = \"input1.txt\"\n",
    "\n",
    "result = Pica(filename, M = 2, L = 1)\n",
    "result1 = Pica(filename, length = 31, M = 2, L = 1)\n",
    "\n",
    "print(result)\n",
    "PlotBoth(result, result1)\n",
    "#Plot(sin(10*t) + cos(10*t), result[1])\n",
    "#plt.show()"
   ]
  },
  {
   "cell_type": "code",
   "execution_count": null,
   "metadata": {},
   "outputs": [],
   "source": []
  }
 ],
 "metadata": {
  "kernelspec": {
   "display_name": "Python 3",
   "language": "python",
   "name": "python3"
  },
  "language_info": {
   "codemirror_mode": {
    "name": "ipython",
    "version": 3
   },
   "file_extension": ".py",
   "mimetype": "text/x-python",
   "name": "python",
   "nbconvert_exporter": "python",
   "pygments_lexer": "ipython3",
   "version": "3.8.5"
  }
 },
 "nbformat": 4,
 "nbformat_minor": 4
}
