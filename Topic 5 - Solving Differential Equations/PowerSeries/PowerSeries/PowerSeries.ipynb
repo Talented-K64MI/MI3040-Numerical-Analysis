{
 "cells": [
  {
   "cell_type": "code",
   "execution_count": 5,
   "metadata": {},
   "outputs": [],
   "source": [
    "#import\n",
    "#region\n",
    "import matplotlib.pyplot as plt\n",
    "import math\n",
    "#endregion\n",
    "\n",
    "\n",
    "#input and output\n",
    "#region\n",
    "inputPath_1 = 'example1.txt'\n",
    "inputPath_2 = 'example2.txt'\n",
    "\n",
    "outputPath_1 = 'outputPath_1.txt'\n",
    "\n",
    "#endregion\n",
    "\n",
    "\n",
    "# some stuff\n",
    "#region\n",
    "empty = lambda s: s != ''\n",
    "\n",
    "def Show():\n",
    "    return 0\n",
    "\n",
    "def validate():\n",
    "\n",
    "    return 1\n",
    "\n",
    "#endregion\n",
    "\n",
    "\n",
    "#read input\n",
    "#region\n",
    "def ReadArray(f):\n",
    "    line = f.readline()\n",
    "    result = list(map(float, list(filter(empty,line.split(' ')))))\n",
    "    return result\n",
    "\n",
    "def ReadMatrix(f):\n",
    "    listCoef = []\n",
    "    line = f.readline()\n",
    "    while(line.strip() != ''):\n",
    "        coef = list(map(float,list(filter(empty,line.split(' ')))))\n",
    "        listCoef.append(coef)\n",
    "        line = f.readline()\n",
    "    #print('listCoef: ')\n",
    "    #print(listCoef)\n",
    "    return listCoef\n",
    "\n",
    "def RandN(listCoef):\n",
    "        # R & N\n",
    "    R = listCoef[0][0]\n",
    "    N = math.inf\n",
    "    for coef in listCoef:\n",
    "        if(R > coef[0]): R = coef[0]\n",
    "        coef.pop(0)\n",
    "        if(N > len(coef)): N = len(coef)\n",
    "    if R <= 0:\n",
    "        raise ValueError(\"invalid input: bán kính <= 0\")\n",
    "    \n",
    "    #print(listCoef)\n",
    "    #print(\"bán kính hội tụ: \", end =''); print(R)\n",
    "    #print(\"bậc tối đa sẽ tìm của t: \", end = ''); print(N)\n",
    "    return (R,N)\n",
    "\n",
    "#endregion\n",
    "\n",
    "\n",
    "#main loop\n",
    "def calculate(initial, listCoef, N):\n",
    "    result = initial            # mảng kết quả c_i\n",
    "    k=len(listCoef)             # mảng mảng hệ số a_i\n",
    "    for n in range(0,N-k):\n",
    "        c=0\n",
    "        #start calculating c_{n+k}\n",
    "        for m in range(0,n+1):\n",
    "            mult = 1\n",
    "            for i in range(0,k):\n",
    "                c+=listCoef[i][n-m] * result[m+i] * mult\n",
    "                mult *= m+i+1\n",
    "        offset = 1;\n",
    "        for i in range(n+1,n+k+1): offset *= i\n",
    "        c= -c/offset           # -1*n! / (n+k)!\n",
    "        result.append(c)\n",
    "    return result\n",
    "\n",
    "\n",
    "#Program\n",
    "def Polynomial(inputPath):\n",
    "    f = open(inputPath,\"r\")\n",
    "    initial = ReadArray(f)\n",
    "    listCoef = ReadMatrix(f)\n",
    "    f.close()\n",
    "    R,N = RandN(listCoef)\n",
    "    result = calculate(initial, listCoef, N)\n",
    "    return (R, result)\n",
    "\n",
    "\n",
    "# file working\n",
    "#region\n",
    "def Save(result, outputPath, mode):\n",
    "    f = open(outputPath, mode)\n",
    "    f.write(\"Radius of convergence = \" + str(result[0]) + \", Result: \\n\");\n",
    "    f.write(str(result[1]))\n",
    "    f.close()\n",
    "\n",
    "#endregion\n",
    "\n",
    "#plot\n",
    "#region\n",
    "def Plot(result, start, end):\n",
    "    from sympy.plotting import plot\n",
    "    from sympy import symbols, Function\n",
    "    x = symbols('x')\n",
    "    f = symbols('f', cls=Function)\n",
    "    f = 0\n",
    "    power = 0\n",
    "    for i in result:\n",
    "        f += i * (x ** power)\n",
    "        power += 1\n",
    "    plot((f, (x, start, end)))\n",
    "\n",
    "#endregion\n",
    "\n",
    "#Frobenius\n",
    "\n",
    "\n"
   ]
  },
  {
   "cell_type": "code",
   "execution_count": 6,
   "metadata": {},
   "outputs": [
    {
     "name": "stdout",
     "output_type": "stream",
     "text": [
      "Radius of convergence = 1.0, Result: \n",
      "\n",
      "[-1.0, 1.0, 0.0, 1.0, -0.16666666666666666, -0.0]\n"
     ]
    },
    {
     "data": {
      "image/png": "[encoded data removed]",
      "text/plain": [
       "<Figure size 432x288 with 1 Axes>"
      ]
     },
     "metadata": {
      "needs_background": "light"
     },
     "output_type": "display_data"
    }
   ],
   "source": [
    "result = Polynomial(inputPath_1)\n",
    "print(\"Radius of convergence = \" + str(result[0]) + \", Result: \\n\")\n",
    "resultArray = result[1]\n",
    "print(resultArray)\n",
    "\n",
    "Plot(resultArray, -2 , 2)\n",
    "Save(result,outputPath_1,\"w\")\n",
    "\n",
    "#endregion\n"
   ]
  },
  {
   "cell_type": "code",
   "execution_count": 6,
   "metadata": {},
   "outputs": [
    {
     "data": {
      "text/plain": [
       "['1', '', '2', '', '', '', '3', '', '', '???']"
      ]
     },
     "execution_count": 6,
     "metadata": {},
     "output_type": "execute_result"
    }
   ],
   "source": [
    "\"1  2    3   ???\".split(' ')"
   ]
  },
  {
   "cell_type": "code",
   "execution_count": null,
   "metadata": {},
   "outputs": [],
   "source": []
  }
 ],
 "metadata": {
  "kernelspec": {
   "display_name": "Python 3",
   "language": "python",
   "name": "python3"
  },
  "language_info": {
   "codemirror_mode": {
    "name": "ipython",
    "version": 3
   },
   "file_extension": ".py",
   "mimetype": "text/x-python",
   "name": "python",
   "nbconvert_exporter": "python",
   "pygments_lexer": "ipython3",
   "version": "3.8.5"
  }
 },
 "nbformat": 4,
 "nbformat_minor": 4
}
