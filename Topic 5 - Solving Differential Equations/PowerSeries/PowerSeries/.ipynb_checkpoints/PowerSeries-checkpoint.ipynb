{
 "cells": [
  {
   "cell_type": "markdown",
   "metadata": {},
   "source": [
    "# Import"
   ]
  },
  {
   "cell_type": "code",
   "execution_count": 2,
   "metadata": {},
   "outputs": [],
   "source": [
    "#region\n",
    "import matplotlib.pyplot as plt\n",
    "import math\n",
    "\n",
    "from sympy import *\n",
    "import matplotlib.pyplot as plt\n",
    "from numpy import linspace\n",
    "import numpy as np\n",
    "#endregion\n",
    "t = symbols('t')\n",
    "f = symbols('f', cls=Function)"
   ]
  },
  {
   "cell_type": "markdown",
   "metadata": {},
   "source": [
    "# Input"
   ]
  },
  {
   "cell_type": "code",
   "execution_count": 3,
   "metadata": {},
   "outputs": [],
   "source": [
    "#read input\n",
    "#region\n",
    "def ReadArray(f):\n",
    "    line = f.readline()\n",
    "    result = list(map(lambda x: float(N(x)), line.split()))\n",
    "    return result\n",
    "\n",
    "def ReadMatrix(f):\n",
    "    listCoef = []\n",
    "    line = f.readline()\n",
    "    while(line.strip() != ''):\n",
    "        coef = list(map(lambda x: float(N(x)), line.split()))\n",
    "        listCoef.append(coef)\n",
    "        line = f.readline()\n",
    "    #print('listCoef: ')\n",
    "    #print(listCoef)\n",
    "    return listCoef\n",
    "\n",
    "def RandN(listCoef):\n",
    "        # R & N\n",
    "    R = listCoef[0][0]\n",
    "    N = math.inf\n",
    "    for coef in listCoef:\n",
    "        if(R > coef[0]): R = coef[0]\n",
    "        coef.pop(0)\n",
    "        if(N > len(coef)): N = len(coef)\n",
    "    if R <= 0:\n",
    "        raise ValueError(\"invalid input: bán kính <= 0\")\n",
    "\n",
    "    return (R,N)\n",
    "\n",
    "#endregion"
   ]
  },
  {
   "cell_type": "markdown",
   "metadata": {},
   "source": [
    "# Hàm chính"
   ]
  },
  {
   "cell_type": "code",
   "execution_count": 4,
   "metadata": {},
   "outputs": [],
   "source": [
    "def calculate(initial, listCoef, N):\n",
    "    result = initial              # mảng kết quả c_i\n",
    "    k=len(listCoef)-1             # mảng mảng hệ số a_i và f\n",
    "    for n in range(0,N-k):\n",
    "        c=0\n",
    "        offset = 1;\n",
    "        for i in range(n+1,n+k+1): offset *= i\n",
    "        #start calculating c_{n+k}\n",
    "        for m in range(0,n+1):\n",
    "            mult = 1\n",
    "            for i in range(0,k):\n",
    "                c += listCoef[i][n-m] * result[m+i] * mult\n",
    "                mult *= m+i+1\n",
    "        c= (listCoef[k][n]-c)/offset           # -1*n! / (n+k)!\n",
    "        result.append(c)\n",
    "    return result\n",
    "\n",
    "#Program\n",
    "def Polynomial(inputPath):\n",
    "    f = open(inputPath,\"r\")\n",
    "    initial = ReadArray(f)\n",
    "    listCoef = ReadMatrix(f)\n",
    "    f.close()\n",
    "    R,N = RandN(listCoef)\n",
    "    result = calculate(initial, listCoef, N)\n",
    "    return (R, result)\n",
    "def Restore(array):\n",
    "    3"
   ]
  },
  {
   "cell_type": "markdown",
   "metadata": {},
   "source": [
    "# Plot and save"
   ]
  },
  {
   "cell_type": "code",
   "execution_count": 5,
   "metadata": {},
   "outputs": [],
   "source": [
    "#region\n",
    "def Save(result, outputPath, mode):\n",
    "    f = open(outputPath, mode)\n",
    "    f.write(\"Radius of convergence = \" + str(result[0]) + \", Result: \\n\");\n",
    "    f.write(str(result[1]))\n",
    "    f.close()\n",
    "\n",
    "def Plotf(f, interval):\n",
    "    t_vals = linspace(interval[0], interval[1], 1000)\n",
    "    lam_x = lambdify(t, f, modules = ['numpy'])\n",
    "    x_vals = lam_x(t_vals)\n",
    "    plt.plot(t_vals, x_vals)\n",
    "    \n",
    "def Plot(result, start, end, g = None):\n",
    "    f = 0\n",
    "    power = 0\n",
    "    for i in result:\n",
    "        f += i * (t ** power)\n",
    "        power += 1\n",
    "    Plotf(f, (start, end))\n",
    "    if g is not None:\n",
    "        Plotf(g, (start, end))\n",
    "    return f\n",
    "#endregion\n",
    "\n",
    "#Frobenius"
   ]
  },
  {
   "cell_type": "markdown",
   "metadata": {},
   "source": [
    "# Test"
   ]
  },
  {
   "cell_type": "code",
   "execution_count": 6,
   "metadata": {},
   "outputs": [],
   "source": [
    "test1 = 'example1.txt'\n",
    "test2 = 'example2.txt'\n",
    "\n",
    "output = 'outputPath_1.txt'"
   ]
  },
  {
   "cell_type": "code",
   "execution_count": 10,
   "metadata": {},
   "outputs": [
    {
     "name": "stdout",
     "output_type": "stream",
     "text": [
      "Radius of convergence =  8.0 , Result:\n",
      "[ 0.0e+00  3.0e+00  0.0e+00 -4.5e+00  0.0e+00  2.0e+00  0.0e+00 -4.3e-01\n",
      " -8.7e-17  5.4e-02]\n",
      "0.054*t**9 - 8.7e-17*t**8 - 0.43*t**7 + 2.0*t**5 - 4.5*t**3 + 3.0*t\n"
     ]
    },
    {
     "data": {
      "image/png": "[encoded data removed]",
      "text/plain": [
       "<Figure size 432x288 with 1 Axes>"
      ]
     },
     "metadata": {
      "needs_background": "light"
     },
     "output_type": "display_data"
    }
   ],
   "source": [
    "R, array = Polynomial(test1)\n",
    "print(\"Radius of convergence = \" ,str(R), \", Result:\")\n",
    "np.set_printoptions(precision=1)\n",
    "print(np.array(array))\n",
    "\n",
    "f = Plot(array, -2 , 2, g = sin(3*t))\n",
    "print(f.evalf(2))\n",
    "Save((R,array),output,\"w\")"
   ]
  },
  {
   "cell_type": "code",
   "execution_count": 8,
   "metadata": {},
   "outputs": [
    {
     "name": "stdout",
     "output_type": "stream",
     "text": [
      "Radius of convergence = 8.0, Result: \n",
      "\n",
      "[0.0, 1.0, 0.0, -0.5, 0.0, 0.125, 0.0, -0.020833333333333332, 0.0, 0.0026041666666666665, 0.0, -0.00026041666666666666, 0.0, 2.170138888888889e-05, 0.0, -1.5500992063492063e-06, 0.0, 9.68812003968254e-08, 0.0]\n"
     ]
    },
    {
     "data": {
      "image/png": "[encoded data removed]",
      "text/plain": [
       "<Figure size 432x288 with 1 Axes>"
      ]
     },
     "metadata": {
      "needs_background": "light"
     },
     "output_type": "display_data"
    }
   ],
   "source": [
    "R, array = Polynomial(test2)\n",
    "\n",
    "print(\"Radius of convergence = \" + str(R) + \", Result: \\n\")\n",
    "print(array)\n",
    "\n",
    "Plot(array, -1 , 1, g = sin(t))\n",
    "Save((R,array),output,\"w\")\n"
   ]
  },
  {
   "cell_type": "code",
   "execution_count": 9,
   "metadata": {},
   "outputs": [
    {
     "data": {
      "text/latex": [
       "$\\displaystyle 2 t + 1$"
      ],
      "text/plain": [
       "2*t + 1"
      ]
     },
     "execution_count": 9,
     "metadata": {},
     "output_type": "execute_result"
    },
    {
     "data": {
      "image/png": "[encoded data removed]",
      "text/plain": [
       "<Figure size 432x288 with 1 Axes>"
      ]
     },
     "metadata": {
      "needs_background": "light"
     },
     "output_type": "display_data"
    }
   ],
   "source": [
    "Plot([1,2], -2 , 2, g = sin(3*t))"
   ]
  },
  {
   "cell_type": "code",
   "execution_count": null,
   "metadata": {},
   "outputs": [],
   "source": []
  },
  {
   "cell_type": "code",
   "execution_count": null,
   "metadata": {},
   "outputs": [],
   "source": []
  }
 ],
 "metadata": {
  "kernelspec": {
   "display_name": "Python 3",
   "language": "python",
   "name": "python3"
  },
  "language_info": {
   "codemirror_mode": {
    "name": "ipython",
    "version": 3
   },
   "file_extension": ".py",
   "mimetype": "text/x-python",
   "name": "python",
   "nbconvert_exporter": "python",
   "pygments_lexer": "ipython3",
   "version": "3.8.5"
  }
 },
 "nbformat": 4,
 "nbformat_minor": 4
}
